{
 "cells": [
  {
   "cell_type": "code",
   "execution_count": 47,
   "metadata": {},
   "outputs": [],
   "source": [
    "import tensorflow as tf\n",
    "import numpy as np"
   ]
  },
  {
   "cell_type": "code",
   "execution_count": 48,
   "metadata": {},
   "outputs": [
    {
     "name": "stdout",
     "output_type": "stream",
     "text": [
      "(0, [0.233312, 0.40721178])\n",
      "(20, [0.42892835, 0.7833319])\n",
      "(40, [0.41869333, 0.7892293])\n",
      "(60, [0.41207957, 0.79304])\n",
      "(80, [0.40780574, 0.7955025])\n",
      "(100, [0.40504402, 0.7970937])\n",
      "(120, [0.4032594, 0.798122])\n",
      "(140, [0.4021062, 0.79878646])\n",
      "(160, [0.401361, 0.7992158])\n",
      "(180, [0.4008795, 0.79949325])\n",
      "(200, [0.4005684, 0.7996725])\n",
      "(220, [0.40036723, 0.7997884])\n",
      "(240, [0.40023732, 0.7998633])\n",
      "(260, [0.4001533, 0.7999117])\n",
      "(280, [0.4000991, 0.7999429])\n"
     ]
    }
   ],
   "source": [
    "# randomly generate 100 points\n",
    "x_data = np.random.rand(100)\n",
    "y_data = x_data*0.4 + 0.8\n",
    "\n",
    "# create a linear model\n",
    "c = tf.Variable(0.)\n",
    "m = tf.Variable(0.)\n",
    "y = m*x_data + c\n",
    "\n",
    "# calculate loss\n",
    "loss = tf.reduce_mean(tf.square(y_data - y))\n",
    "# create a gradient descent optimizer with learning rate 0.2\n",
    "learning_rate = 0.2\n",
    "optimizer = tf.train.GradientDescentOptimizer(learning_rate)\n",
    "# minimize loss\n",
    "train = optimizer.minimize(loss)\n",
    "\n",
    "# init variables\n",
    "init = tf.global_variables_initializer()\n",
    "\n",
    "# parameters\n",
    "epochs = 300\n",
    "step = 20\n",
    "\n",
    "with tf.Session() as sess:\n",
    "    sess.run(init)\n",
    "    for epoch in range(epochs):\n",
    "        sess.run(train)\n",
    "        if epoch%step == 0:\n",
    "            print(epoch, sess.run([m,c]))"
   ]
  }
 ],
 "metadata": {
  "kernelspec": {
   "display_name": "Python 2",
   "language": "python",
   "name": "python2"
  },
  "language_info": {
   "codemirror_mode": {
    "name": "ipython",
    "version": 2
   },
   "file_extension": ".py",
   "mimetype": "text/x-python",
   "name": "python",
   "nbconvert_exporter": "python",
   "pygments_lexer": "ipython2",
   "version": "2.7.15"
  }
 },
 "nbformat": 4,
 "nbformat_minor": 2
}
